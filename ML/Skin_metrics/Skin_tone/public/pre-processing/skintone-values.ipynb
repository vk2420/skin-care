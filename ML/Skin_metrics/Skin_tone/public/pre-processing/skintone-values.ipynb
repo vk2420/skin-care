{
 "cells": [
  {
   "cell_type": "code",
   "execution_count": 1,
   "metadata": {},
   "outputs": [],
   "source": [
    "\"\"\"\n",
    "To generate skin color tone csv for skin tone classification\n",
    "\"\"\"\n",
    "import cv2\n",
    "import numpy as np\n",
    "import pandas as pd\n",
    "import os\n"
   ]
  },
  {
   "cell_type": "code",
   "execution_count": 3,
   "metadata": {},
   "outputs": [],
   "source": [
    "folder = \"D:\\Mynthra-hack\\skintone\\simple-skin-detection\\ML\\Skin metrics\\Skin tone\\public\\skin tone values\"\n",
    "df = pd.DataFrame()\n",
    "for subfolder in os.listdir(folder):\n",
    "    for filename in os.listdir(os.path.join(folder, subfolder)):\n",
    "        img = cv2.imread(os.path.join(folder, subfolder, filename))\n",
    "        if img is not None:\n",
    "\n",
    "            # img_HSV = cv2.cvtColor(img, cv2.COLOR_BGR2HSV)\n",
    "            # img_YCrCb = cv2.cvtColor(img, cv2.COLOR_BGR2YCrCb)\n",
    "            # Cr = img_YCrCb.reshape([-1, 3])[:, 1]\n",
    "            # Cb = img_YCrCb.reshape([-1, 3])[:, 2]\n",
    "            # H = img_HSV.reshape([-1, 3])[:, 0]\n",
    "            # df = df.append(pd.DataFrame({\n",
    "            #     'Type': subfolder,\n",
    "            #     'H': H[H[:] == max(H[:])][0],\n",
    "            #     'Cr' : Cr[Cr[:] == max(Cr[:])][0],\n",
    "            #     'Cb' : Cb[Cb[:] == max(Cb[:])][0]\n",
    "            #     }, index=[0]), ignore_index = True)\n",
    "            B = img.reshape([-1, 3])[:, 0]\n",
    "            G = img.reshape([-1, 3])[:, 1]\n",
    "            R = img.reshape([-1, 3])[:, 2]\n",
    "            df = df.append(pd.DataFrame({\n",
    "                'Type': subfolder,\n",
    "                'R': R[R[:] == max(R[:])][0],\n",
    "                'G' : G[G[:] == max(G[:])][0],\n",
    "                'B' : B[B[:] == max(B[:])][0]\n",
    "                }, index=[0]), ignore_index = True)\n",
    "            \n",
    "df.to_csv('skin_tone_dataset.csv', index=False)\n"
   ]
  },
  {
   "cell_type": "code",
   "execution_count": 19,
   "metadata": {},
   "outputs": [
    {
     "name": "stdout",
     "output_type": "stream",
     "text": [
      "Type    18518.0\n",
      "R         249.0\n",
      "G         245.0\n",
      "B         236.0\n",
      "dtype: float64 Type    317460.0\n",
      "R          250.0\n",
      "G          245.0\n",
      "B          234.0\n",
      "dtype: float64 Type    476190.0\n",
      "R          240.0\n",
      "G          227.0\n",
      "B          171.0\n",
      "dtype: float64 Type    634921.0\n",
      "R          206.0\n",
      "G          172.0\n",
      "B          104.0\n",
      "dtype: float64 Type    793651.0\n",
      "R          105.0\n",
      "G           59.0\n",
      "B           41.0\n",
      "dtype: float64 Type    33.0\n",
      "R       33.0\n",
      "G       28.0\n",
      "B       40.0\n",
      "dtype: float64\n"
     ]
    }
   ],
   "source": [
    "tone1 = df.loc[df['Type'] == '1'].mean(axis=0)\n",
    "tone2 = df.loc[df['Type'] == '2'].mean(axis=0)\n",
    "tone3 = df.loc[df['Type'] == '3'].mean(axis=0)\n",
    "tone4 = df.loc[df['Type'] == '4'].mean(axis=0)\n",
    "tone5 = df.loc[df['Type'] == '5'].mean(axis=0)\n",
    "tone6 = df.loc[df['Type'] == '6'].mean(axis=0)\n",
    "\n",
    "print(round(tone1),\n",
    "      round(tone2),\n",
    "      round(tone3),\n",
    "      round(tone4),\n",
    "      round(tone5),\n",
    "      round(tone6))\n"
   ]
  }
 ],
 "metadata": {
  "interpreter": {
   "hash": "ba2f22f42967f045b6a8cdadb7a1806ca4d147626f8330f177f9e32090d93637"
  },
  "kernelspec": {
   "display_name": "Python 3 (ipykernel)",
   "language": "python",
   "name": "python3"
  },
  "language_info": {
   "codemirror_mode": {
    "name": "ipython",
    "version": 3
   },
   "file_extension": ".py",
   "mimetype": "text/x-python",
   "name": "python",
   "nbconvert_exporter": "python",
   "pygments_lexer": "ipython3",
   "version": "3.9.13"
  }
 },
 "nbformat": 4,
 "nbformat_minor": 2
}
